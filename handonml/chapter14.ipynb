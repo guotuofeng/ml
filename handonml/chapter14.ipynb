{
 "cells": [
  {
   "cell_type": "code",
   "execution_count": 1,
   "metadata": {},
   "outputs": [],
   "source": [
    "import numpy as np\n",
    "import tensorflow as tf\n",
    "\n",
    "%matplotlib inline\n",
    "import matplotlib.pyplot as plt\n",
    "\n",
    "# to make this notebook's output stable across runs\n",
    "def reset_graph(seed=42):\n",
    "    tf.reset_default_graph()\n",
    "    tf.set_random_seed(seed)\n",
    "    np.random.seed(seed)"
   ]
  },
  {
   "cell_type": "code",
   "execution_count": 2,
   "metadata": {},
   "outputs": [],
   "source": [
    "reset_graph()\n",
    "\n",
    "n_inputs = 3\n",
    "n_neurons = 5\n",
    "\n",
    "X0 = tf.placeholder(tf.float32, [None, n_inputs])\n",
    "X1 = tf.placeholder(tf.float32, [None, n_inputs])\n",
    "\n",
    "Wx = tf.Variable(tf.random_normal(shape=[n_inputs, n_neurons], dtype=tf.float32))\n",
    "Wy = tf.Variable(tf.random_normal(shape=[n_neurons, n_neurons], dtype=tf.float32))\n",
    "b = tf.Variable(tf.zeros([1, n_neurons], dtype=tf.float32))\n",
    "\n",
    "Y0 = tf.tanh(tf.matmul(X0, Wx) + b)             \n",
    "Y1 = tf.tanh(tf.matmul(Y0, Wy) + tf.matmul(X1, Wx) + b)\n",
    "\n",
    "init = tf.global_variables_initializer()\n",
    "# Mini-batch        instance 0, instance 1, instance 2, instance 3\n",
    "X0_batch = np.array([[0, 1, 2], [3, 4, 5], [6, 7, 8], [9, 0, 1]]) # t = 3\n",
    "X1_batch = np.array([[9, 8, 7], [0, 0, 0], [6, 5, 4], [3, 2, 1]]) # t = 1\n",
    "\n",
    "with tf.Session() as sess:\n",
    "    init.run()\n",
    "    \n",
    "    Y0_val, Y1_val = sess.run([Y0, Y1], feed_dict={X0: X0_batch, X1: X1_batch})"
   ]
  },
  {
   "cell_type": "code",
   "execution_count": 3,
   "metadata": {},
   "outputs": [
    {
     "name": "stdout",
     "output_type": "stream",
     "text": [
      "[[-0.0664006   0.9625767   0.68105793  0.7091854  -0.898216  ]\n",
      " [ 0.9977755  -0.719789   -0.9965761   0.9673924  -0.9998972 ]\n",
      " [ 0.99999774 -0.99898803 -0.9999989   0.9967762  -0.9999999 ]\n",
      " [ 1.         -1.         -1.         -0.99818915  0.9995087 ]]\n"
     ]
    }
   ],
   "source": [
    "print(Y0_val)"
   ]
  },
  {
   "cell_type": "code",
   "execution_count": 4,
   "metadata": {},
   "outputs": [
    {
     "name": "stdout",
     "output_type": "stream",
     "text": [
      "[[ 1.         -1.         -1.          0.4020025  -0.9999998 ]\n",
      " [-0.12210419  0.62805265  0.9671843  -0.9937122  -0.2583937 ]\n",
      " [ 0.9999983  -0.9999994  -0.9999975  -0.85943305 -0.9999881 ]\n",
      " [ 0.99928284 -0.99999815 -0.9999058   0.9857963  -0.92205757]]\n"
     ]
    }
   ],
   "source": [
    "print(Y1_val)"
   ]
  },
  {
   "cell_type": "markdown",
   "metadata": {},
   "source": [
    "## static_rnn()"
   ]
  },
  {
   "cell_type": "code",
   "execution_count": 5,
   "metadata": {},
   "outputs": [],
   "source": [
    "n_inputs = 3\n",
    "n_neurons = 5\n",
    "\n",
    "reset_graph()\n",
    "\n",
    "X0 = tf.placeholder(tf.float32, [None, n_inputs])\n",
    "X1 = tf.placeholder(tf.float32, [None, n_inputs])\n",
    "\n",
    "basic_cell = tf.contrib.rnn.BasicRNNCell(num_units=n_neurons)\n",
    "output_seqs, states = tf.contrib.rnn.static_rnn(basic_cell, [X0, X1], dtype=tf.float32)\n",
    "\n",
    "Y0, Y1 = output_seqs"
   ]
  },
  {
   "cell_type": "code",
   "execution_count": 13,
   "metadata": {},
   "outputs": [],
   "source": [
    "init = tf.global_variables_initializer()\n",
    "X0_batch = np.array([[0, 1, 2], [3, 4, 5], [6, 7, 8], [9, 0, 1]])\n",
    "X1_batch = np.array([[9, 8, 7], [0, 0, 0], [6, 5, 4], [3, 2, 1]])\n",
    "\n",
    "from datetime import datetime\n",
    "now = datetime.utcnow().strftime(\"%Y%m%d%H%M%S\")\n",
    "root_logdir = \"e:/tmp/chap14/tf_logs\"\n",
    "logdir = \"{}/run-{}/\".format(root_logdir, now)\n",
    "\n",
    "with tf.Session() as sess:\n",
    "    file_writer = tf.summary.FileWriter(logdir, sess.graph) \n",
    "    init.run()\n",
    "    Y0_val, Y1_val = sess.run([Y0, Y1], feed_dict={X0: X0_batch, X1: X1_batch})\n",
    "    run_metadata = tf.RunMetadata()\n",
    "    file_writer.add_run_metadata(run_metadata, \"step\")\n",
    "    #file_writer.add_summary()\n",
    "    file_writer.close()"
   ]
  },
  {
   "cell_type": "code",
   "execution_count": 7,
   "metadata": {},
   "outputs": [
    {
     "data": {
      "text/plain": [
       "array([[ 0.30741334, -0.32884315, -0.6542847 , -0.9385059 ,  0.52089024],\n",
       "       [ 0.99122757, -0.9542541 , -0.7518079 , -0.9995208 ,  0.9820235 ],\n",
       "       [ 0.9999268 , -0.99783254, -0.8247353 , -0.9999963 ,  0.99947774],\n",
       "       [ 0.996771  , -0.68750614,  0.8419969 ,  0.9303911 ,  0.8120684 ]],\n",
       "      dtype=float32)"
      ]
     },
     "execution_count": 7,
     "metadata": {},
     "output_type": "execute_result"
    }
   ],
   "source": [
    "Y0_val"
   ]
  },
  {
   "cell_type": "code",
   "execution_count": 13,
   "metadata": {},
   "outputs": [
    {
     "data": {
      "text/plain": [
       "array([[ 0.99998885, -0.99976057, -0.0667929 , -0.9999803 ,  0.99982214],\n",
       "       [-0.6524943 , -0.51520866, -0.37968948, -0.5922594 , -0.08968379],\n",
       "       [ 0.99862397, -0.99715203, -0.03308626, -0.9991566 ,  0.9932902 ],\n",
       "       [ 0.99681675, -0.9598194 ,  0.39660627, -0.8307606 ,  0.79671973]],\n",
       "      dtype=float32)"
      ]
     },
     "execution_count": 13,
     "metadata": {},
     "output_type": "execute_result"
    }
   ],
   "source": [
    "Y1_val"
   ]
  },
  {
   "cell_type": "markdown",
   "metadata": {},
   "source": [
    "### Packing sequence"
   ]
  },
  {
   "cell_type": "code",
   "execution_count": 14,
   "metadata": {},
   "outputs": [],
   "source": [
    "n_steps = 2\n",
    "n_inputs = 3\n",
    "n_neurons = 5"
   ]
  },
  {
   "cell_type": "code",
   "execution_count": 16,
   "metadata": {},
   "outputs": [],
   "source": [
    "reset_graph()\n",
    "\n",
    "X = tf.placeholder(tf.float32, [None, n_steps, n_inputs])\n",
    "X_seqs = tf.unstack(tf.transpose(X, perm=[1,0,2]))\n",
    "basic_cell = tf.contrib.rnn.BasicRNNCell(num_units=n_neurons)\n",
    "output_seqs, states = tf.contrib.rnn.static_rnn(basic_cell, X_seqs, dtype=tf.float32)\n",
    "outputs = tf.transpose(tf.stack(output_seqs), perm=[1, 0, 2])"
   ]
  },
  {
   "cell_type": "code",
   "execution_count": 17,
   "metadata": {},
   "outputs": [],
   "source": [
    "init = tf.global_variables_initializer()"
   ]
  },
  {
   "cell_type": "code",
   "execution_count": 20,
   "metadata": {},
   "outputs": [],
   "source": [
    "X_batch = np.array([\n",
    "    # t = 0 t = 1\n",
    "    [[0, 1, 2], [9, 8, 7]], # instance 0\n",
    "    [[3, 4, 5], [0, 0, 0]], # instance 1\n",
    "    [[6, 7, 8], [6, 5, 4]], # instance 2\n",
    "    [[9, 0, 1], [3, 2, 1]], # instance 3\n",
    "])\n",
    "\n",
    "with tf.Session() as sess:\n",
    "    init.run()\n",
    "    outputs_val = outputs.eval(feed_dict={X: X_batch})"
   ]
  },
  {
   "cell_type": "code",
   "execution_count": 21,
   "metadata": {},
   "outputs": [
    {
     "data": {
      "text/plain": [
       "array([[[-0.45652324, -0.68064123,  0.40938237,  0.63104504,\n",
       "         -0.45732826],\n",
       "        [-0.9428799 , -0.9998869 ,  0.94055814,  0.9999985 ,\n",
       "         -0.9999997 ]],\n",
       "\n",
       "       [[-0.8001535 , -0.9921827 ,  0.7817797 ,  0.9971032 ,\n",
       "         -0.9964609 ],\n",
       "        [-0.637116  ,  0.11300927,  0.5798437 ,  0.4310559 ,\n",
       "         -0.6371699 ]],\n",
       "\n",
       "       [[-0.93605185, -0.9998379 ,  0.9308867 ,  0.9999815 ,\n",
       "         -0.99998295],\n",
       "        [-0.9165386 , -0.9945604 ,  0.896054  ,  0.99987197,\n",
       "         -0.9999751 ]],\n",
       "\n",
       "       [[ 0.9927369 , -0.9981933 , -0.55543643,  0.9989031 ,\n",
       "         -0.9953323 ],\n",
       "        [-0.02746338, -0.73191994,  0.7827872 ,  0.9525682 ,\n",
       "         -0.9781773 ]]], dtype=float32)"
      ]
     },
     "execution_count": 21,
     "metadata": {},
     "output_type": "execute_result"
    }
   ],
   "source": [
    "outputs_val"
   ]
  },
  {
   "cell_type": "code",
   "execution_count": 22,
   "metadata": {},
   "outputs": [
    {
     "data": {
      "text/plain": [
       "array([[-0.9428799 , -0.9998869 ,  0.94055814,  0.9999985 , -0.9999997 ],\n",
       "       [-0.637116  ,  0.11300927,  0.5798437 ,  0.4310559 , -0.6371699 ],\n",
       "       [-0.9165386 , -0.9945604 ,  0.896054  ,  0.99987197, -0.9999751 ],\n",
       "       [-0.02746338, -0.73191994,  0.7827872 ,  0.9525682 , -0.9781773 ]],\n",
       "      dtype=float32)"
      ]
     },
     "execution_count": 22,
     "metadata": {},
     "output_type": "execute_result"
    }
   ],
   "source": [
    "np.transpose(outputs_val, axes=[1, 0, 2])[1]"
   ]
  },
  {
   "cell_type": "markdown",
   "metadata": {},
   "source": [
    "## dynamic_rnn()"
   ]
  },
  {
   "cell_type": "code",
   "execution_count": 23,
   "metadata": {},
   "outputs": [],
   "source": [
    "n_steps = 2\n",
    "n_inputs = 3\n",
    "n_neurons = 5"
   ]
  },
  {
   "cell_type": "code",
   "execution_count": 24,
   "metadata": {},
   "outputs": [],
   "source": [
    "reset_graph()\n",
    "\n",
    "X = tf.placeholder(tf.float32, [None, n_steps, n_inputs])\n",
    "\n",
    "basic_cell = tf.contrib.rnn.BasicRNNCell(num_units = n_neurons)\n",
    "outputs, states = tf.nn.dynamic_rnn(basic_cell, X, dtype=tf.float32)"
   ]
  },
  {
   "cell_type": "code",
   "execution_count": 25,
   "metadata": {},
   "outputs": [],
   "source": [
    "init = tf.global_variables_initializer()\n",
    "\n",
    "X_batch =  np.array([\n",
    "        [[0, 1, 2], [9, 8, 7]], # instance 1\n",
    "        [[3, 4, 5], [0, 0, 0]], # instance 2\n",
    "        [[6, 7, 8], [6, 5, 4]], # instance 3\n",
    "        [[9, 0, 1], [3, 2, 1]], # instance 4\n",
    "    ])\n",
    "\n",
    "with tf.Session() as sess:\n",
    "    init.run()\n",
    "    outputs_val = outputs.eval(feed_dict={X: X_batch})"
   ]
  },
  {
   "cell_type": "code",
   "execution_count": 27,
   "metadata": {},
   "outputs": [
    {
     "data": {
      "text/plain": [
       "array([[[-0.85115266,  0.87358344,  0.5802911 ,  0.8954789 ,\n",
       "         -0.0557505 ],\n",
       "        [-0.999996  ,  0.99999577,  0.9981815 ,  1.        ,\n",
       "          0.37679607]],\n",
       "\n",
       "       [[-0.9983293 ,  0.9992038 ,  0.98071456,  0.999985  ,\n",
       "          0.25192663],\n",
       "        [-0.7081804 , -0.0772338 , -0.85227895,  0.5845349 ,\n",
       "         -0.78780943]],\n",
       "\n",
       "       [[-0.9999827 ,  0.99999535,  0.9992863 ,  1.        ,\n",
       "          0.5159072 ],\n",
       "        [-0.9993956 ,  0.9984095 ,  0.83422637,  0.99999976,\n",
       "         -0.47325212]],\n",
       "\n",
       "       [[ 0.87888587,  0.07356028,  0.97216916,  0.9998546 ,\n",
       "         -0.7351168 ],\n",
       "        [-0.9134514 ,  0.3600957 ,  0.7624866 ,  0.99817705,\n",
       "          0.80142   ]]], dtype=float32)"
      ]
     },
     "execution_count": 27,
     "metadata": {},
     "output_type": "execute_result"
    }
   ],
   "source": [
    "outputs_val"
   ]
  },
  {
   "cell_type": "markdown",
   "metadata": {},
   "source": [
    "## Variable Sequence Length"
   ]
  },
  {
   "cell_type": "code",
   "execution_count": 28,
   "metadata": {},
   "outputs": [],
   "source": [
    "n_steps = 2\n",
    "n_inputs = 3\n",
    "n_neurons = 5\n",
    "\n",
    "reset_graph()\n",
    "\n",
    "X = tf.placeholder(tf.float32, [None, n_steps, n_inputs])\n",
    "basic_cell = tf.contrib.rnn.BasicRNNCell(num_units=n_neurons)"
   ]
  },
  {
   "cell_type": "code",
   "execution_count": 30,
   "metadata": {},
   "outputs": [],
   "source": [
    "seq_length = tf.placeholder(tf.int32, [None])\n",
    "outputs, states = tf.nn.dynamic_rnn(basic_cell, X, dtype=tf.float32, sequence_length=seq_length)"
   ]
  },
  {
   "cell_type": "code",
   "execution_count": 31,
   "metadata": {},
   "outputs": [],
   "source": [
    "init = tf.global_variables_initializer()\n",
    "\n",
    "X_batch = np.array([\n",
    "        # step 0     step 1\n",
    "        [[0, 1, 2], [9, 8, 7]], # instance 1\n",
    "        [[3, 4, 5], [0, 0, 0]], # instance 2 (padded with zero vectors)\n",
    "        [[6, 7, 8], [6, 5, 4]], # instance 3\n",
    "        [[9, 0, 1], [3, 2, 1]], # instance 4\n",
    "    ])\n",
    "\n",
    "seq_length_batch = np.array([2, 1, 2, 2])\n",
    "\n",
    "with tf.Session() as sess:\n",
    "    init.run()\n",
    "    outputs_val, states_val = sess.run([outputs, states], feed_dict={X: X_batch, seq_length: seq_length_batch})"
   ]
  },
  {
   "cell_type": "code",
   "execution_count": 32,
   "metadata": {},
   "outputs": [
    {
     "data": {
      "text/plain": [
       "array([[[ 0.20123261,  0.8485545 ,  0.9367546 , -0.64976275,\n",
       "          0.24727657],\n",
       "        [ 0.9999977 ,  0.9999998 ,  1.        , -0.9948769 ,\n",
       "          0.9394541 ]],\n",
       "\n",
       "       [[ 0.98114127,  0.9996771 ,  0.9999982 , -0.9795104 ,\n",
       "          0.7208298 ],\n",
       "        [ 0.        ,  0.        ,  0.        ,  0.        ,\n",
       "          0.        ]],\n",
       "\n",
       "       [[ 0.99972755,  0.9999994 ,  1.        , -0.9989911 ,\n",
       "          0.916424  ],\n",
       "        [ 0.99992263,  0.99983186,  1.        , -0.91878283,\n",
       "          0.6966661 ]],\n",
       "\n",
       "       [[ 0.9996366 ,  0.99158496,  0.99998814, -0.99899435,\n",
       "          0.9882074 ],\n",
       "        [ 0.9949612 ,  0.913094  ,  0.9943361 , -0.06307561,\n",
       "          0.16509786]]], dtype=float32)"
      ]
     },
     "execution_count": 32,
     "metadata": {},
     "output_type": "execute_result"
    }
   ],
   "source": [
    "outputs_val"
   ]
  },
  {
   "cell_type": "code",
   "execution_count": 33,
   "metadata": {},
   "outputs": [
    {
     "data": {
      "text/plain": [
       "array([[ 0.9999977 ,  0.9999998 ,  1.        , -0.9948769 ,  0.9394541 ],\n",
       "       [ 0.98114127,  0.9996771 ,  0.9999982 , -0.9795104 ,  0.7208298 ],\n",
       "       [ 0.99992263,  0.99983186,  1.        , -0.91878283,  0.6966661 ],\n",
       "       [ 0.9949612 ,  0.913094  ,  0.9943361 , -0.06307561,  0.16509786]],\n",
       "      dtype=float32)"
      ]
     },
     "execution_count": 33,
     "metadata": {},
     "output_type": "execute_result"
    }
   ],
   "source": [
    "states_val"
   ]
  },
  {
   "cell_type": "markdown",
   "metadata": {},
   "source": [
    "## Training sequence classifier"
   ]
  },
  {
   "cell_type": "code",
   "execution_count": 34,
   "metadata": {},
   "outputs": [],
   "source": [
    "reset_graph()\n",
    "\n",
    "n_steps = 28\n",
    "n_inputs = 28\n",
    "n_neurons = 150\n",
    "n_outputs = 10\n",
    "learning_rate = 0.001\n",
    "\n",
    "X = tf.placeholder(tf.float32, [None, n_steps, n_inputs])\n",
    "y = tf.placeholder(tf.int32, [None])\n",
    "\n",
    "basic_cell = tf.contrib.rnn.BasicRNNCell(num_units=n_neurons)\n",
    "outputs, states = tf.nn.dynamic_rnn(basic_cell, X, dtype=tf.float32)\n",
    "\n",
    "logits = tf.layers.dense(states, n_outputs)\n",
    "xentropy = tf.nn.sparse_softmax_cross_entropy_with_logits(labels=y, logits=logits)\n",
    "\n",
    "loss = tf.reduce_mean(xentropy)\n",
    "optimizer = tf.train.AdamOptimizer(learning_rate=learning_rate)\n",
    "training_op = optimizer.minimize(loss)\n",
    "correct = tf.nn.in_top_k(logits, y, 1)\n",
    "accuracy = tf.reduce_mean(tf.cast(correct, tf.float32))\n",
    "\n",
    "init = tf.global_variables_initializer()"
   ]
  },
  {
   "cell_type": "code",
   "execution_count": 37,
   "metadata": {},
   "outputs": [
    {
     "name": "stdout",
     "output_type": "stream",
     "text": [
      "Extracting e:/tmp/data\\train-images-idx3-ubyte.gz\n",
      "Extracting e:/tmp/data\\train-labels-idx1-ubyte.gz\n",
      "Extracting e:/tmp/data\\t10k-images-idx3-ubyte.gz\n",
      "Extracting e:/tmp/data\\t10k-labels-idx1-ubyte.gz\n"
     ]
    }
   ],
   "source": [
    "from tensorflow.examples.tutorials.mnist import input_data\n",
    "\n",
    "mnist = input_data.read_data_sets(\"e:/tmp/data\")\n",
    "X_test = mnist.test.images.reshape((-1, n_steps, n_inputs))\n",
    "y_test = mnist.test.labels"
   ]
  },
  {
   "cell_type": "code",
   "execution_count": 38,
   "metadata": {},
   "outputs": [
    {
     "name": "stdout",
     "output_type": "stream",
     "text": [
      "0 Train accuracy: 0.9260274 Test accuracy: 0.9202\n",
      "1 Train accuracy: 0.92876714 Test accuracy: 0.9277\n",
      "2 Train accuracy: 0.9506849 Test accuracy: 0.9504\n",
      "3 Train accuracy: 0.95616436 Test accuracy: 0.957\n",
      "4 Train accuracy: 0.9726027 Test accuracy: 0.9552\n",
      "5 Train accuracy: 0.95616436 Test accuracy: 0.9657\n",
      "6 Train accuracy: 0.9808219 Test accuracy: 0.9697\n",
      "7 Train accuracy: 0.9917808 Test accuracy: 0.9703\n",
      "8 Train accuracy: 0.97534245 Test accuracy: 0.9718\n",
      "9 Train accuracy: 0.9780822 Test accuracy: 0.9722\n",
      "10 Train accuracy: 0.9780822 Test accuracy: 0.9725\n",
      "11 Train accuracy: 0.97534245 Test accuracy: 0.9725\n",
      "12 Train accuracy: 0.9808219 Test accuracy: 0.9732\n",
      "13 Train accuracy: 0.9068493 Test accuracy: 0.9219\n",
      "14 Train accuracy: 0.95342463 Test accuracy: 0.9548\n",
      "15 Train accuracy: 0.9616438 Test accuracy: 0.9657\n",
      "16 Train accuracy: 0.9726027 Test accuracy: 0.9684\n",
      "17 Train accuracy: 0.9808219 Test accuracy: 0.9724\n",
      "18 Train accuracy: 0.97534245 Test accuracy: 0.9735\n",
      "19 Train accuracy: 0.969863 Test accuracy: 0.9675\n",
      "20 Train accuracy: 0.9780822 Test accuracy: 0.9726\n",
      "21 Train accuracy: 0.9890411 Test accuracy: 0.9751\n",
      "22 Train accuracy: 0.9972603 Test accuracy: 0.9754\n",
      "23 Train accuracy: 0.9917808 Test accuracy: 0.976\n",
      "24 Train accuracy: 0.9808219 Test accuracy: 0.9767\n",
      "25 Train accuracy: 0.9890411 Test accuracy: 0.9772\n",
      "26 Train accuracy: 0.9808219 Test accuracy: 0.9796\n",
      "27 Train accuracy: 0.98630136 Test accuracy: 0.9766\n",
      "28 Train accuracy: 0.9890411 Test accuracy: 0.9772\n",
      "29 Train accuracy: 0.9890411 Test accuracy: 0.9782\n",
      "30 Train accuracy: 0.98356164 Test accuracy: 0.9789\n",
      "31 Train accuracy: 0.9917808 Test accuracy: 0.9793\n",
      "32 Train accuracy: 0.9917808 Test accuracy: 0.9789\n",
      "33 Train accuracy: 0.9917808 Test accuracy: 0.9784\n",
      "34 Train accuracy: 0.9726027 Test accuracy: 0.9668\n",
      "35 Train accuracy: 0.9808219 Test accuracy: 0.9699\n",
      "36 Train accuracy: 0.99452055 Test accuracy: 0.976\n",
      "37 Train accuracy: 0.9808219 Test accuracy: 0.9765\n",
      "38 Train accuracy: 0.9917808 Test accuracy: 0.9784\n",
      "39 Train accuracy: 0.9890411 Test accuracy: 0.9785\n",
      "40 Train accuracy: 0.98356164 Test accuracy: 0.9783\n",
      "41 Train accuracy: 0.97534245 Test accuracy: 0.979\n",
      "42 Train accuracy: 0.98630136 Test accuracy: 0.9801\n",
      "43 Train accuracy: 0.98356164 Test accuracy: 0.9794\n",
      "44 Train accuracy: 0.9917808 Test accuracy: 0.9782\n",
      "45 Train accuracy: 0.9808219 Test accuracy: 0.9801\n",
      "46 Train accuracy: 0.98630136 Test accuracy: 0.9799\n",
      "47 Train accuracy: 0.99452055 Test accuracy: 0.9808\n",
      "48 Train accuracy: 0.9890411 Test accuracy: 0.9793\n",
      "49 Train accuracy: 0.9780822 Test accuracy: 0.9797\n",
      "50 Train accuracy: 0.98356164 Test accuracy: 0.9788\n",
      "51 Train accuracy: 0.9890411 Test accuracy: 0.976\n",
      "52 Train accuracy: 0.98630136 Test accuracy: 0.9786\n",
      "53 Train accuracy: 0.9808219 Test accuracy: 0.9783\n",
      "54 Train accuracy: 0.98630136 Test accuracy: 0.9818\n",
      "55 Train accuracy: 0.9972603 Test accuracy: 0.9803\n",
      "56 Train accuracy: 0.9972603 Test accuracy: 0.9814\n",
      "57 Train accuracy: 0.9890411 Test accuracy: 0.9784\n",
      "58 Train accuracy: 0.9917808 Test accuracy: 0.9805\n",
      "59 Train accuracy: 0.9890411 Test accuracy: 0.9782\n",
      "60 Train accuracy: 0.98630136 Test accuracy: 0.9802\n",
      "61 Train accuracy: 0.9917808 Test accuracy: 0.9796\n",
      "62 Train accuracy: 0.9917808 Test accuracy: 0.9785\n",
      "63 Train accuracy: 0.9890411 Test accuracy: 0.9808\n",
      "64 Train accuracy: 0.98356164 Test accuracy: 0.9786\n",
      "65 Train accuracy: 0.9917808 Test accuracy: 0.9815\n",
      "66 Train accuracy: 0.99452055 Test accuracy: 0.981\n",
      "67 Train accuracy: 0.9917808 Test accuracy: 0.9805\n",
      "68 Train accuracy: 0.9890411 Test accuracy: 0.9812\n",
      "69 Train accuracy: 0.99452055 Test accuracy: 0.9814\n",
      "70 Train accuracy: 0.9890411 Test accuracy: 0.9794\n",
      "71 Train accuracy: 0.9890411 Test accuracy: 0.9807\n",
      "72 Train accuracy: 0.98630136 Test accuracy: 0.9782\n",
      "73 Train accuracy: 0.9726027 Test accuracy: 0.9787\n",
      "74 Train accuracy: 0.98356164 Test accuracy: 0.9788\n",
      "75 Train accuracy: 0.9890411 Test accuracy: 0.9774\n",
      "76 Train accuracy: 0.98630136 Test accuracy: 0.9767\n",
      "77 Train accuracy: 0.9890411 Test accuracy: 0.9775\n",
      "78 Train accuracy: 0.9972603 Test accuracy: 0.9809\n",
      "79 Train accuracy: 0.99452055 Test accuracy: 0.9794\n",
      "80 Train accuracy: 0.9917808 Test accuracy: 0.9793\n",
      "81 Train accuracy: 0.97534245 Test accuracy: 0.9791\n",
      "82 Train accuracy: 0.9808219 Test accuracy: 0.9793\n",
      "83 Train accuracy: 0.98630136 Test accuracy: 0.9745\n",
      "84 Train accuracy: 0.9726027 Test accuracy: 0.9682\n",
      "85 Train accuracy: 0.9808219 Test accuracy: 0.975\n",
      "86 Train accuracy: 0.98630136 Test accuracy: 0.9798\n",
      "87 Train accuracy: 0.9808219 Test accuracy: 0.9788\n",
      "88 Train accuracy: 0.9890411 Test accuracy: 0.9806\n",
      "89 Train accuracy: 0.99452055 Test accuracy: 0.9787\n",
      "90 Train accuracy: 0.9890411 Test accuracy: 0.9806\n",
      "91 Train accuracy: 0.98356164 Test accuracy: 0.9776\n",
      "92 Train accuracy: 0.98356164 Test accuracy: 0.9716\n",
      "93 Train accuracy: 0.9780822 Test accuracy: 0.976\n",
      "94 Train accuracy: 0.9890411 Test accuracy: 0.9706\n",
      "95 Train accuracy: 0.9917808 Test accuracy: 0.9732\n",
      "96 Train accuracy: 0.9808219 Test accuracy: 0.9755\n",
      "97 Train accuracy: 0.98630136 Test accuracy: 0.9768\n",
      "98 Train accuracy: 0.97534245 Test accuracy: 0.9777\n",
      "99 Train accuracy: 0.9808219 Test accuracy: 0.9761\n"
     ]
    }
   ],
   "source": [
    "n_epochs = 100\n",
    "batch_size = 150\n",
    "\n",
    "with tf.Session() as sess:\n",
    "    init.run()\n",
    "    for epoch in range(n_epochs):\n",
    "        for iteration in range(mnist.train.num_examples // batch_size):\n",
    "            X_batch, y_batch = mnist.train.next_batch(iteration)\n",
    "            X_batch = X_batch.reshape((-1, n_steps, n_inputs))\n",
    "            sess.run(training_op, feed_dict={X:X_batch, y: y_batch})\n",
    "        acc_train = accuracy.eval(feed_dict={X:X_batch, y: y_batch})\n",
    "        acc_test = accuracy.eval(feed_dict={X: X_test, y: y_test})\n",
    "        print(epoch, \"Train accuracy:\", acc_train, \"Test accuracy:\", acc_test)"
   ]
  },
  {
   "cell_type": "markdown",
   "metadata": {},
   "source": [
    "## Time Series"
   ]
  },
  {
   "cell_type": "code",
   "execution_count": null,
   "metadata": {},
   "outputs": [],
   "source": []
  }
 ],
 "metadata": {
  "kernelspec": {
   "display_name": "Python (tensorflow)",
   "language": "python",
   "name": "tensorflow"
  },
  "language_info": {
   "codemirror_mode": {
    "name": "ipython",
    "version": 3
   },
   "file_extension": ".py",
   "mimetype": "text/x-python",
   "name": "python",
   "nbconvert_exporter": "python",
   "pygments_lexer": "ipython3",
   "version": "3.5.5"
  }
 },
 "nbformat": 4,
 "nbformat_minor": 2
}
