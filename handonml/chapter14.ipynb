{
 "cells": [
  {
   "cell_type": "code",
   "execution_count": 1,
   "metadata": {},
   "outputs": [],
   "source": [
    "import numpy as np\n",
    "import tensorflow as tf\n",
    "\n",
    "%matplotlib inline\n",
    "import matplotlib.pyplot as plt\n",
    "\n",
    "# to make this notebook's output stable across runs\n",
    "def reset_graph(seed=42):\n",
    "    tf.reset_default_graph()\n",
    "    tf.set_random_seed(seed)\n",
    "    np.random.seed(seed)"
   ]
  },
  {
   "cell_type": "code",
   "execution_count": 2,
   "metadata": {},
   "outputs": [],
   "source": [
    "reset_graph()\n",
    "\n",
    "n_inputs = 3\n",
    "n_neurons = 5\n",
    "\n",
    "X0 = tf.placeholder(tf.float32, [None, n_inputs])\n",
    "X1 = tf.placeholder(tf.float32, [None, n_inputs])\n",
    "\n",
    "Wx = tf.Variable(tf.random_normal(shape=[n_inputs, n_neurons], dtype=tf.float32))\n",
    "Wy = tf.Variable(tf.random_normal(shape=[n_neurons, n_neurons], dtype=tf.float32))\n",
    "b = tf.Variable(tf.zeros([1, n_neurons], dtype=tf.float32))\n",
    "\n",
    "Y0 = tf.tanh(tf.matmul(X0, Wx) + b)             \n",
    "Y1 = tf.tanh(tf.matmul(Y0, Wy) + tf.matmul(X1, Wx) + b)\n",
    "\n",
    "init = tf.global_variables_initializer()\n",
    "# Mini-batch        instance 0, instance 1, instance 2, instance 3\n",
    "X0_batch = np.array([[0, 1, 2], [3, 4, 5], [6, 7, 8], [9, 0, 1]]) # t = 3\n",
    "X1_batch = np.array([[9, 8, 7], [0, 0, 0], [6, 5, 4], [3, 2, 1]]) # t = 1\n",
    "\n",
    "with tf.Session() as sess:\n",
    "    init.run()\n",
    "    \n",
    "    Y0_val, Y1_val = sess.run([Y0, Y1], feed_dict={X0: X0_batch, X1: X1_batch})"
   ]
  },
  {
   "cell_type": "code",
   "execution_count": 3,
   "metadata": {},
   "outputs": [
    {
     "name": "stdout",
     "output_type": "stream",
     "text": [
      "[[-0.0664006   0.9625767   0.68105793  0.7091854  -0.898216  ]\n",
      " [ 0.9977755  -0.719789   -0.9965761   0.9673924  -0.9998972 ]\n",
      " [ 0.99999774 -0.99898803 -0.9999989   0.9967762  -0.9999999 ]\n",
      " [ 1.         -1.         -1.         -0.99818915  0.9995087 ]]\n"
     ]
    }
   ],
   "source": [
    "print(Y0_val)"
   ]
  },
  {
   "cell_type": "code",
   "execution_count": 4,
   "metadata": {},
   "outputs": [
    {
     "name": "stdout",
     "output_type": "stream",
     "text": [
      "[[ 1.         -1.         -1.          0.4020025  -0.9999998 ]\n",
      " [-0.12210419  0.62805265  0.9671843  -0.9937122  -0.2583937 ]\n",
      " [ 0.9999983  -0.9999994  -0.9999975  -0.85943305 -0.9999881 ]\n",
      " [ 0.99928284 -0.99999815 -0.9999058   0.9857963  -0.92205757]]\n"
     ]
    }
   ],
   "source": [
    "print(Y1_val)"
   ]
  },
  {
   "cell_type": "markdown",
   "metadata": {},
   "source": [
    "## static_rnn()"
   ]
  },
  {
   "cell_type": "code",
   "execution_count": 5,
   "metadata": {},
   "outputs": [],
   "source": [
    "n_inputs = 3\n",
    "n_neurons = 5\n",
    "\n",
    "reset_graph()\n",
    "\n",
    "X0 = tf.placeholder(tf.float32, [None, n_inputs])\n",
    "X1 = tf.placeholder(tf.float32, [None, n_inputs])\n",
    "\n",
    "basic_cell = tf.contrib.rnn.BasicRNNCell(num_units=n_neurons)\n",
    "output_seqs, states = tf.contrib.rnn.static_rnn(basic_cell, [X0, X1], dtype=tf.float32)\n",
    "\n",
    "Y0, Y1 = output_seqs"
   ]
  },
  {
   "cell_type": "code",
   "execution_count": 13,
   "metadata": {},
   "outputs": [],
   "source": [
    "init = tf.global_variables_initializer()\n",
    "X0_batch = np.array([[0, 1, 2], [3, 4, 5], [6, 7, 8], [9, 0, 1]])\n",
    "X1_batch = np.array([[9, 8, 7], [0, 0, 0], [6, 5, 4], [3, 2, 1]])\n",
    "\n",
    "from datetime import datetime\n",
    "now = datetime.utcnow().strftime(\"%Y%m%d%H%M%S\")\n",
    "root_logdir = \"e:/tmp/chap14/tf_logs\"\n",
    "logdir = \"{}/run-{}/\".format(root_logdir, now)\n",
    "\n",
    "with tf.Session() as sess:\n",
    "    file_writer = tf.summary.FileWriter(logdir, sess.graph) \n",
    "    init.run()\n",
    "    Y0_val, Y1_val = sess.run([Y0, Y1], feed_dict={X0: X0_batch, X1: X1_batch})\n",
    "    run_metadata = tf.RunMetadata()\n",
    "    file_writer.add_run_metadata(run_metadata, \"step\")\n",
    "    #file_writer.add_summary()\n",
    "    file_writer.close()"
   ]
  },
  {
   "cell_type": "code",
   "execution_count": 7,
   "metadata": {},
   "outputs": [
    {
     "data": {
      "text/plain": [
       "array([[ 0.30741334, -0.32884315, -0.6542847 , -0.9385059 ,  0.52089024],\n",
       "       [ 0.99122757, -0.9542541 , -0.7518079 , -0.9995208 ,  0.9820235 ],\n",
       "       [ 0.9999268 , -0.99783254, -0.8247353 , -0.9999963 ,  0.99947774],\n",
       "       [ 0.996771  , -0.68750614,  0.8419969 ,  0.9303911 ,  0.8120684 ]],\n",
       "      dtype=float32)"
      ]
     },
     "execution_count": 7,
     "metadata": {},
     "output_type": "execute_result"
    }
   ],
   "source": [
    "Y0_val"
   ]
  },
  {
   "cell_type": "code",
   "execution_count": 13,
   "metadata": {},
   "outputs": [
    {
     "data": {
      "text/plain": [
       "array([[ 0.99998885, -0.99976057, -0.0667929 , -0.9999803 ,  0.99982214],\n",
       "       [-0.6524943 , -0.51520866, -0.37968948, -0.5922594 , -0.08968379],\n",
       "       [ 0.99862397, -0.99715203, -0.03308626, -0.9991566 ,  0.9932902 ],\n",
       "       [ 0.99681675, -0.9598194 ,  0.39660627, -0.8307606 ,  0.79671973]],\n",
       "      dtype=float32)"
      ]
     },
     "execution_count": 13,
     "metadata": {},
     "output_type": "execute_result"
    }
   ],
   "source": [
    "Y1_val"
   ]
  },
  {
   "cell_type": "markdown",
   "metadata": {},
   "source": [
    "### Packing sequence"
   ]
  },
  {
   "cell_type": "code",
   "execution_count": 14,
   "metadata": {},
   "outputs": [],
   "source": [
    "n_steps = 2\n",
    "n_inputs = 3\n",
    "n_neurons = 5"
   ]
  },
  {
   "cell_type": "code",
   "execution_count": 16,
   "metadata": {},
   "outputs": [],
   "source": [
    "reset_graph()\n",
    "\n",
    "X = tf.placeholder(tf.float32, [None, n_steps, n_inputs])\n",
    "X_seqs = tf.unstack(tf.transpose(X, perm=[1,0,2]))\n",
    "basic_cell = tf.contrib.rnn.BasicRNNCell(num_units=n_neurons)\n",
    "output_seqs, states = tf.contrib.rnn.static_rnn(basic_cell, X_seqs, dtype=tf.float32)\n",
    "outputs = tf.transpose(tf.stack(output_seqs), perm=[1, 0, 2])"
   ]
  },
  {
   "cell_type": "code",
   "execution_count": 17,
   "metadata": {},
   "outputs": [],
   "source": [
    "init = tf.global_variables_initializer()"
   ]
  },
  {
   "cell_type": "code",
   "execution_count": 20,
   "metadata": {},
   "outputs": [],
   "source": [
    "X_batch = np.array([\n",
    "    # t = 0 t = 1\n",
    "    [[0, 1, 2], [9, 8, 7]], # instance 0\n",
    "    [[3, 4, 5], [0, 0, 0]], # instance 1\n",
    "    [[6, 7, 8], [6, 5, 4]], # instance 2\n",
    "    [[9, 0, 1], [3, 2, 1]], # instance 3\n",
    "])\n",
    "\n",
    "with tf.Session() as sess:\n",
    "    init.run()\n",
    "    outputs_val = outputs.eval(feed_dict={X: X_batch})"
   ]
  },
  {
   "cell_type": "code",
   "execution_count": 21,
   "metadata": {},
   "outputs": [
    {
     "data": {
      "text/plain": [
       "array([[[-0.45652324, -0.68064123,  0.40938237,  0.63104504,\n",
       "         -0.45732826],\n",
       "        [-0.9428799 , -0.9998869 ,  0.94055814,  0.9999985 ,\n",
       "         -0.9999997 ]],\n",
       "\n",
       "       [[-0.8001535 , -0.9921827 ,  0.7817797 ,  0.9971032 ,\n",
       "         -0.9964609 ],\n",
       "        [-0.637116  ,  0.11300927,  0.5798437 ,  0.4310559 ,\n",
       "         -0.6371699 ]],\n",
       "\n",
       "       [[-0.93605185, -0.9998379 ,  0.9308867 ,  0.9999815 ,\n",
       "         -0.99998295],\n",
       "        [-0.9165386 , -0.9945604 ,  0.896054  ,  0.99987197,\n",
       "         -0.9999751 ]],\n",
       "\n",
       "       [[ 0.9927369 , -0.9981933 , -0.55543643,  0.9989031 ,\n",
       "         -0.9953323 ],\n",
       "        [-0.02746338, -0.73191994,  0.7827872 ,  0.9525682 ,\n",
       "         -0.9781773 ]]], dtype=float32)"
      ]
     },
     "execution_count": 21,
     "metadata": {},
     "output_type": "execute_result"
    }
   ],
   "source": [
    "outputs_val"
   ]
  },
  {
   "cell_type": "code",
   "execution_count": 22,
   "metadata": {},
   "outputs": [
    {
     "data": {
      "text/plain": [
       "array([[-0.9428799 , -0.9998869 ,  0.94055814,  0.9999985 , -0.9999997 ],\n",
       "       [-0.637116  ,  0.11300927,  0.5798437 ,  0.4310559 , -0.6371699 ],\n",
       "       [-0.9165386 , -0.9945604 ,  0.896054  ,  0.99987197, -0.9999751 ],\n",
       "       [-0.02746338, -0.73191994,  0.7827872 ,  0.9525682 , -0.9781773 ]],\n",
       "      dtype=float32)"
      ]
     },
     "execution_count": 22,
     "metadata": {},
     "output_type": "execute_result"
    }
   ],
   "source": [
    "np.transpose(outputs_val, axes=[1, 0, 2])[1]"
   ]
  },
  {
   "cell_type": "markdown",
   "metadata": {},
   "source": [
    "## dynamic_rnn()"
   ]
  },
  {
   "cell_type": "code",
   "execution_count": 23,
   "metadata": {},
   "outputs": [],
   "source": [
    "n_steps = 2\n",
    "n_inputs = 3\n",
    "n_neurons = 5"
   ]
  },
  {
   "cell_type": "code",
   "execution_count": 24,
   "metadata": {},
   "outputs": [],
   "source": [
    "reset_graph()\n",
    "\n",
    "X = tf.placeholder(tf.float32, [None, n_steps, n_inputs])\n",
    "\n",
    "basic_cell = tf.contrib.rnn.BasicRNNCell(num_units = n_neurons)\n",
    "outputs, states = tf.nn.dynamic_rnn(basic_cell, X, dtype=tf.float32)"
   ]
  },
  {
   "cell_type": "code",
   "execution_count": 25,
   "metadata": {},
   "outputs": [],
   "source": [
    "init = tf.global_variables_initializer()\n",
    "\n",
    "X_batch =  np.array([\n",
    "        [[0, 1, 2], [9, 8, 7]], # instance 1\n",
    "        [[3, 4, 5], [0, 0, 0]], # instance 2\n",
    "        [[6, 7, 8], [6, 5, 4]], # instance 3\n",
    "        [[9, 0, 1], [3, 2, 1]], # instance 4\n",
    "    ])\n",
    "\n",
    "with tf.Session() as sess:\n",
    "    init.run()\n",
    "    outputs_val = outputs.eval(feed_dict={X: X_batch})"
   ]
  },
  {
   "cell_type": "code",
   "execution_count": 27,
   "metadata": {},
   "outputs": [
    {
     "data": {
      "text/plain": [
       "array([[[-0.85115266,  0.87358344,  0.5802911 ,  0.8954789 ,\n",
       "         -0.0557505 ],\n",
       "        [-0.999996  ,  0.99999577,  0.9981815 ,  1.        ,\n",
       "          0.37679607]],\n",
       "\n",
       "       [[-0.9983293 ,  0.9992038 ,  0.98071456,  0.999985  ,\n",
       "          0.25192663],\n",
       "        [-0.7081804 , -0.0772338 , -0.85227895,  0.5845349 ,\n",
       "         -0.78780943]],\n",
       "\n",
       "       [[-0.9999827 ,  0.99999535,  0.9992863 ,  1.        ,\n",
       "          0.5159072 ],\n",
       "        [-0.9993956 ,  0.9984095 ,  0.83422637,  0.99999976,\n",
       "         -0.47325212]],\n",
       "\n",
       "       [[ 0.87888587,  0.07356028,  0.97216916,  0.9998546 ,\n",
       "         -0.7351168 ],\n",
       "        [-0.9134514 ,  0.3600957 ,  0.7624866 ,  0.99817705,\n",
       "          0.80142   ]]], dtype=float32)"
      ]
     },
     "execution_count": 27,
     "metadata": {},
     "output_type": "execute_result"
    }
   ],
   "source": [
    "outputs_val"
   ]
  },
  {
   "cell_type": "markdown",
   "metadata": {},
   "source": [
    "## Variable Sequence Length"
   ]
  },
  {
   "cell_type": "code",
   "execution_count": 28,
   "metadata": {},
   "outputs": [],
   "source": [
    "n_steps = 2\n",
    "n_inputs = 3\n",
    "n_neurons = 5\n",
    "\n",
    "reset_graph()\n",
    "\n",
    "X = tf.placeholder(tf.float32, [None, n_steps, n_inputs])\n",
    "basic_cell = tf.contrib.rnn.BasicRNNCell(num_units=n_neurons)"
   ]
  },
  {
   "cell_type": "code",
   "execution_count": 30,
   "metadata": {},
   "outputs": [],
   "source": [
    "seq_length = tf.placeholder(tf.int32, [None])\n",
    "outputs, states = tf.nn.dynamic_rnn(basic_cell, X, dtype=tf.float32, sequence_length=seq_length)"
   ]
  },
  {
   "cell_type": "code",
   "execution_count": 31,
   "metadata": {},
   "outputs": [],
   "source": [
    "init = tf.global_variables_initializer()\n",
    "\n",
    "X_batch = np.array([\n",
    "        # step 0     step 1\n",
    "        [[0, 1, 2], [9, 8, 7]], # instance 1\n",
    "        [[3, 4, 5], [0, 0, 0]], # instance 2 (padded with zero vectors)\n",
    "        [[6, 7, 8], [6, 5, 4]], # instance 3\n",
    "        [[9, 0, 1], [3, 2, 1]], # instance 4\n",
    "    ])\n",
    "\n",
    "seq_length_batch = np.array([2, 1, 2, 2])\n",
    "\n",
    "with tf.Session() as sess:\n",
    "    init.run()\n",
    "    outputs_val, states_val = sess.run([outputs, states], feed_dict={X: X_batch, seq_length: seq_length_batch})"
   ]
  },
  {
   "cell_type": "code",
   "execution_count": 32,
   "metadata": {},
   "outputs": [
    {
     "data": {
      "text/plain": [
       "array([[[ 0.20123261,  0.8485545 ,  0.9367546 , -0.64976275,\n",
       "          0.24727657],\n",
       "        [ 0.9999977 ,  0.9999998 ,  1.        , -0.9948769 ,\n",
       "          0.9394541 ]],\n",
       "\n",
       "       [[ 0.98114127,  0.9996771 ,  0.9999982 , -0.9795104 ,\n",
       "          0.7208298 ],\n",
       "        [ 0.        ,  0.        ,  0.        ,  0.        ,\n",
       "          0.        ]],\n",
       "\n",
       "       [[ 0.99972755,  0.9999994 ,  1.        , -0.9989911 ,\n",
       "          0.916424  ],\n",
       "        [ 0.99992263,  0.99983186,  1.        , -0.91878283,\n",
       "          0.6966661 ]],\n",
       "\n",
       "       [[ 0.9996366 ,  0.99158496,  0.99998814, -0.99899435,\n",
       "          0.9882074 ],\n",
       "        [ 0.9949612 ,  0.913094  ,  0.9943361 , -0.06307561,\n",
       "          0.16509786]]], dtype=float32)"
      ]
     },
     "execution_count": 32,
     "metadata": {},
     "output_type": "execute_result"
    }
   ],
   "source": [
    "outputs_val"
   ]
  },
  {
   "cell_type": "code",
   "execution_count": 33,
   "metadata": {},
   "outputs": [
    {
     "data": {
      "text/plain": [
       "array([[ 0.9999977 ,  0.9999998 ,  1.        , -0.9948769 ,  0.9394541 ],\n",
       "       [ 0.98114127,  0.9996771 ,  0.9999982 , -0.9795104 ,  0.7208298 ],\n",
       "       [ 0.99992263,  0.99983186,  1.        , -0.91878283,  0.6966661 ],\n",
       "       [ 0.9949612 ,  0.913094  ,  0.9943361 , -0.06307561,  0.16509786]],\n",
       "      dtype=float32)"
      ]
     },
     "execution_count": 33,
     "metadata": {},
     "output_type": "execute_result"
    }
   ],
   "source": [
    "states_val"
   ]
  },
  {
   "cell_type": "markdown",
   "metadata": {},
   "source": [
    "## Training sequence classifier"
   ]
  },
  {
   "cell_type": "code",
   "execution_count": 34,
   "metadata": {},
   "outputs": [],
   "source": [
    "reset_graph()\n",
    "\n",
    "n_steps = 28\n",
    "n_inputs = 28\n",
    "n_neurons = 150\n",
    "n_outputs = 10\n",
    "learning_rate = 0.001\n",
    "\n",
    "X = tf.placeholder(tf.float32, [None, n_steps, n_inputs])\n",
    "y = tf.placeholder(tf.int32, [None])\n",
    "\n",
    "basic_cell = tf.contrib.rnn.BasicRNNCell(num_units=n_neurons)\n",
    "outputs, states = tf.nn.dynamic_rnn(basic_cell, X, dtype=tf.float32)\n",
    "\n",
    "logits = tf.layers.dense(states, n_outputs)\n",
    "xentropy = tf.nn.sparse_softmax_cross_entropy_with_logits(labels=y, logits=logits)\n",
    "\n",
    "loss = tf.reduce_mean(xentropy)\n",
    "optimizer = tf.train.AdamOptimizer(learning_rate=learning_rate)\n",
    "training_op = optimizer.minimize(loss)\n",
    "correct = tf.nn.in_top_k(logits, y, 1)\n",
    "accuracy = tf.reduce_mean(tf.cast(correct, tf.float32))\n",
    "\n",
    "init = tf.global_variables_initializer()"
   ]
  },
  {
   "cell_type": "code",
   "execution_count": 37,
   "metadata": {},
   "outputs": [
    {
     "name": "stdout",
     "output_type": "stream",
     "text": [
      "Extracting e:/tmp/data\\train-images-idx3-ubyte.gz\n",
      "Extracting e:/tmp/data\\train-labels-idx1-ubyte.gz\n",
      "Extracting e:/tmp/data\\t10k-images-idx3-ubyte.gz\n",
      "Extracting e:/tmp/data\\t10k-labels-idx1-ubyte.gz\n"
     ]
    }
   ],
   "source": [
    "from tensorflow.examples.tutorials.mnist import input_data\n",
    "\n",
    "mnist = input_data.read_data_sets(\"e:/tmp/data\")\n",
    "X_test = mnist.test.images.reshape((-1, n_steps, n_inputs))\n",
    "y_test = mnist.test.labels"
   ]
  },
  {
   "cell_type": "code",
   "execution_count": 38,
   "metadata": {},
   "outputs": [
    {
     "name": "stdout",
     "output_type": "stream",
     "text": [
      "0 Train accuracy: 0.9260274 Test accuracy: 0.9202\n",
      "1 Train accuracy: 0.92876714 Test accuracy: 0.9277\n",
      "2 Train accuracy: 0.9506849 Test accuracy: 0.9504\n",
      "3 Train accuracy: 0.95616436 Test accuracy: 0.957\n",
      "4 Train accuracy: 0.9726027 Test accuracy: 0.9552\n",
      "5 Train accuracy: 0.95616436 Test accuracy: 0.9657\n",
      "6 Train accuracy: 0.9808219 Test accuracy: 0.9697\n",
      "7 Train accuracy: 0.9917808 Test accuracy: 0.9703\n",
      "8 Train accuracy: 0.97534245 Test accuracy: 0.9718\n",
      "9 Train accuracy: 0.9780822 Test accuracy: 0.9722\n",
      "10 Train accuracy: 0.9780822 Test accuracy: 0.9725\n",
      "11 Train accuracy: 0.97534245 Test accuracy: 0.9725\n",
      "12 Train accuracy: 0.9808219 Test accuracy: 0.9732\n",
      "13 Train accuracy: 0.9068493 Test accuracy: 0.9219\n",
      "14 Train accuracy: 0.95342463 Test accuracy: 0.9548\n",
      "15 Train accuracy: 0.9616438 Test accuracy: 0.9657\n",
      "16 Train accuracy: 0.9726027 Test accuracy: 0.9684\n",
      "17 Train accuracy: 0.9808219 Test accuracy: 0.9724\n",
      "18 Train accuracy: 0.97534245 Test accuracy: 0.9735\n",
      "19 Train accuracy: 0.969863 Test accuracy: 0.9675\n",
      "20 Train accuracy: 0.9780822 Test accuracy: 0.9726\n",
      "21 Train accuracy: 0.9890411 Test accuracy: 0.9751\n",
      "22 Train accuracy: 0.9972603 Test accuracy: 0.9754\n",
      "23 Train accuracy: 0.9917808 Test accuracy: 0.976\n",
      "24 Train accuracy: 0.9808219 Test accuracy: 0.9767\n",
      "25 Train accuracy: 0.9890411 Test accuracy: 0.9772\n",
      "26 Train accuracy: 0.9808219 Test accuracy: 0.9796\n",
      "27 Train accuracy: 0.98630136 Test accuracy: 0.9766\n",
      "28 Train accuracy: 0.9890411 Test accuracy: 0.9772\n",
      "29 Train accuracy: 0.9890411 Test accuracy: 0.9782\n",
      "30 Train accuracy: 0.98356164 Test accuracy: 0.9789\n",
      "31 Train accuracy: 0.9917808 Test accuracy: 0.9793\n",
      "32 Train accuracy: 0.9917808 Test accuracy: 0.9789\n",
      "33 Train accuracy: 0.9917808 Test accuracy: 0.9784\n",
      "34 Train accuracy: 0.9726027 Test accuracy: 0.9668\n",
      "35 Train accuracy: 0.9808219 Test accuracy: 0.9699\n",
      "36 Train accuracy: 0.99452055 Test accuracy: 0.976\n",
      "37 Train accuracy: 0.9808219 Test accuracy: 0.9765\n",
      "38 Train accuracy: 0.9917808 Test accuracy: 0.9784\n",
      "39 Train accuracy: 0.9890411 Test accuracy: 0.9785\n",
      "40 Train accuracy: 0.98356164 Test accuracy: 0.9783\n",
      "41 Train accuracy: 0.97534245 Test accuracy: 0.979\n",
      "42 Train accuracy: 0.98630136 Test accuracy: 0.9801\n",
      "43 Train accuracy: 0.98356164 Test accuracy: 0.9794\n",
      "44 Train accuracy: 0.9917808 Test accuracy: 0.9782\n",
      "45 Train accuracy: 0.9808219 Test accuracy: 0.9801\n",
      "46 Train accuracy: 0.98630136 Test accuracy: 0.9799\n",
      "47 Train accuracy: 0.99452055 Test accuracy: 0.9808\n",
      "48 Train accuracy: 0.9890411 Test accuracy: 0.9793\n",
      "49 Train accuracy: 0.9780822 Test accuracy: 0.9797\n",
      "50 Train accuracy: 0.98356164 Test accuracy: 0.9788\n",
      "51 Train accuracy: 0.9890411 Test accuracy: 0.976\n",
      "52 Train accuracy: 0.98630136 Test accuracy: 0.9786\n",
      "53 Train accuracy: 0.9808219 Test accuracy: 0.9783\n",
      "54 Train accuracy: 0.98630136 Test accuracy: 0.9818\n",
      "55 Train accuracy: 0.9972603 Test accuracy: 0.9803\n",
      "56 Train accuracy: 0.9972603 Test accuracy: 0.9814\n",
      "57 Train accuracy: 0.9890411 Test accuracy: 0.9784\n",
      "58 Train accuracy: 0.9917808 Test accuracy: 0.9805\n",
      "59 Train accuracy: 0.9890411 Test accuracy: 0.9782\n",
      "60 Train accuracy: 0.98630136 Test accuracy: 0.9802\n",
      "61 Train accuracy: 0.9917808 Test accuracy: 0.9796\n",
      "62 Train accuracy: 0.9917808 Test accuracy: 0.9785\n",
      "63 Train accuracy: 0.9890411 Test accuracy: 0.9808\n",
      "64 Train accuracy: 0.98356164 Test accuracy: 0.9786\n",
      "65 Train accuracy: 0.9917808 Test accuracy: 0.9815\n",
      "66 Train accuracy: 0.99452055 Test accuracy: 0.981\n",
      "67 Train accuracy: 0.9917808 Test accuracy: 0.9805\n",
      "68 Train accuracy: 0.9890411 Test accuracy: 0.9812\n",
      "69 Train accuracy: 0.99452055 Test accuracy: 0.9814\n",
      "70 Train accuracy: 0.9890411 Test accuracy: 0.9794\n",
      "71 Train accuracy: 0.9890411 Test accuracy: 0.9807\n",
      "72 Train accuracy: 0.98630136 Test accuracy: 0.9782\n",
      "73 Train accuracy: 0.9726027 Test accuracy: 0.9787\n",
      "74 Train accuracy: 0.98356164 Test accuracy: 0.9788\n",
      "75 Train accuracy: 0.9890411 Test accuracy: 0.9774\n",
      "76 Train accuracy: 0.98630136 Test accuracy: 0.9767\n",
      "77 Train accuracy: 0.9890411 Test accuracy: 0.9775\n",
      "78 Train accuracy: 0.9972603 Test accuracy: 0.9809\n",
      "79 Train accuracy: 0.99452055 Test accuracy: 0.9794\n",
      "80 Train accuracy: 0.9917808 Test accuracy: 0.9793\n",
      "81 Train accuracy: 0.97534245 Test accuracy: 0.9791\n",
      "82 Train accuracy: 0.9808219 Test accuracy: 0.9793\n",
      "83 Train accuracy: 0.98630136 Test accuracy: 0.9745\n",
      "84 Train accuracy: 0.9726027 Test accuracy: 0.9682\n",
      "85 Train accuracy: 0.9808219 Test accuracy: 0.975\n",
      "86 Train accuracy: 0.98630136 Test accuracy: 0.9798\n",
      "87 Train accuracy: 0.9808219 Test accuracy: 0.9788\n",
      "88 Train accuracy: 0.9890411 Test accuracy: 0.9806\n",
      "89 Train accuracy: 0.99452055 Test accuracy: 0.9787\n",
      "90 Train accuracy: 0.9890411 Test accuracy: 0.9806\n",
      "91 Train accuracy: 0.98356164 Test accuracy: 0.9776\n",
      "92 Train accuracy: 0.98356164 Test accuracy: 0.9716\n",
      "93 Train accuracy: 0.9780822 Test accuracy: 0.976\n",
      "94 Train accuracy: 0.9890411 Test accuracy: 0.9706\n",
      "95 Train accuracy: 0.9917808 Test accuracy: 0.9732\n",
      "96 Train accuracy: 0.9808219 Test accuracy: 0.9755\n",
      "97 Train accuracy: 0.98630136 Test accuracy: 0.9768\n",
      "98 Train accuracy: 0.97534245 Test accuracy: 0.9777\n",
      "99 Train accuracy: 0.9808219 Test accuracy: 0.9761\n"
     ]
    }
   ],
   "source": [
    "n_epochs = 100\n",
    "batch_size = 150\n",
    "\n",
    "with tf.Session() as sess:\n",
    "    init.run()\n",
    "    for epoch in range(n_epochs):\n",
    "        for iteration in range(mnist.train.num_examples // batch_size):\n",
    "            X_batch, y_batch = mnist.train.next_batch(iteration)\n",
    "            X_batch = X_batch.reshape((-1, n_steps, n_inputs))\n",
    "            sess.run(training_op, feed_dict={X:X_batch, y: y_batch})\n",
    "        acc_train = accuracy.eval(feed_dict={X:X_batch, y: y_batch})\n",
    "        acc_test = accuracy.eval(feed_dict={X: X_test, y: y_test})\n",
    "        print(epoch, \"Train accuracy:\", acc_train, \"Test accuracy:\", acc_test)"
   ]
  },
  {
   "cell_type": "markdown",
   "metadata": {},
   "source": [
    "## Time Series"
   ]
  },
  {
   "cell_type": "code",
   "execution_count": 45,
   "metadata": {},
   "outputs": [],
   "source": [
    "t_min, t_max = 0, 30\n",
    "resolution = 0.1\n",
    "\n",
    "def time_series(t):\n",
    "    return t * np.sin(t) / 3 + 2 * np.sin(t*5)\n",
    "\n",
    "def next_batch(batch_size, n_steps):\n",
    "    t0 = np.random.rand(batch_size, 1) * (t_max - t_min - n_steps * resolution)\n",
    "    Ts = t0 + np.arange(0., n_steps + 1) * resolution\n",
    "    ys = time_series(Ts)\n",
    "    return ys[:, :-1].reshape(-1, n_steps, 1), ys[:, 1:].reshape(-1, n_steps, 1)"
   ]
  },
  {
   "cell_type": "code",
   "execution_count": 46,
   "metadata": {},
   "outputs": [
    {
     "data": {
      "image/png": "[encoded data removed]",
      "text/plain": [
       "<Figure size 792x288 with 2 Axes>"
      ]
     },
     "metadata": {},
     "output_type": "display_data"
    }
   ],
   "source": [
    "t = np.linspace(t_min, t_max, int((t_max - t_min) / resolution))\n",
    "\n",
    "n_steps = 20\n",
    "t_instance = np.linspace(12.2, 12.2 + resolution * (n_steps + 1), n_steps + 1)\n",
    "plt.figure(figsize=(11, 4))\n",
    "plt.subplot(121)\n",
    "plt.title(\"A time-series (generated)\", fontsize=14)\n",
    "plt.plot(t, time_series(t), label=r'$t . \\sin(t) / 3 + 2 . \\sin(5t)$')\n",
    "plt.plot(t_instance[:-1], time_series(t_instance[:-1]), 'b-', linewidth=3, label=\"A train instance\")\n",
    "plt.legend(loc=\"lower left\", fontsize=14)\n",
    "plt.axis([0,30, -17, 13])\n",
    "plt.xlabel(\"Time\")\n",
    "plt.ylabel(\"Value\")\n",
    "\n",
    "plt.subplot(122)\n",
    "plt.title(\"A training instance\", fontsize=14)\n",
    "plt.plot(t_instance[:-1], time_series(t_instance[:-1]), \"bo\", markersize=10, label=\"instance\")\n",
    "plt.plot(t_instance[1:], time_series(t_instance[1:]), \"w*\", markersize=10, label=\"target\")\n",
    "plt.legend(loc=\"upper left\")\n",
    "plt.xlabel(\"Time\")\n",
    "\n",
    "plt.show()"
   ]
  },
  {
   "cell_type": "code",
   "execution_count": 47,
   "metadata": {},
   "outputs": [],
   "source": [
    "X_batch, y_batch = next_batch(1, n_steps)"
   ]
  },
  {
   "cell_type": "code",
   "execution_count": 48,
   "metadata": {},
   "outputs": [
    {
     "data": {
      "text/plain": [
       "array([[ 0.70172468,  0.29872116],\n",
       "       [ 0.29872116,  0.35824052],\n",
       "       [ 0.35824052,  0.82983016],\n",
       "       [ 0.82983016,  1.55612277],\n",
       "       [ 1.55612277,  2.31167196],\n",
       "       [ 2.31167196,  2.85852465],\n",
       "       [ 2.85852465,  3.00492137],\n",
       "       [ 3.00492137,  2.65274897],\n",
       "       [ 2.65274897,  1.8221236 ],\n",
       "       [ 1.8221236 ,  0.64707992],\n",
       "       [ 0.64707992, -0.65658348],\n",
       "       [-0.65658348, -1.84343634],\n",
       "       [-1.84343634, -2.69776965],\n",
       "       [-2.69776965, -3.085645  ],\n",
       "       [-3.085645  , -2.98690455],\n",
       "       [-2.98690455, -2.49931275],\n",
       "       [-2.49931275, -1.81382401],\n",
       "       [-1.81382401, -1.16704028],\n",
       "       [-1.16704028, -0.78250729],\n",
       "       [-0.78250729, -0.81523068]])"
      ]
     },
     "execution_count": 48,
     "metadata": {},
     "output_type": "execute_result"
    }
   ],
   "source": [
    "np.c_[X_batch[0], y_batch[0]]"
   ]
  },
  {
   "cell_type": "code",
   "execution_count": 50,
   "metadata": {},
   "outputs": [
    {
     "name": "stdout",
     "output_type": "stream",
     "text": [
      "0 \tMSE: 11.967254\n",
      "100 \tMSE: 0.525841\n",
      "200 \tMSE: 0.1495599\n",
      "300 \tMSE: 0.07279411\n",
      "400 \tMSE: 0.06158535\n",
      "500 \tMSE: 0.05938873\n",
      "600 \tMSE: 0.05470166\n",
      "700 \tMSE: 0.047849063\n",
      "800 \tMSE: 0.05107608\n",
      "900 \tMSE: 0.047209196\n",
      "1000 \tMSE: 0.047058314\n",
      "1100 \tMSE: 0.047831465\n",
      "1200 \tMSE: 0.04083041\n",
      "1300 \tMSE: 0.047086805\n",
      "1400 \tMSE: 0.041784383\n",
      "1500 \tMSE: 0.048623666\n",
      "1600 \tMSE: 0.050365966\n",
      "1700 \tMSE: 0.042426053\n",
      "1800 \tMSE: 0.032977458\n",
      "1900 \tMSE: 0.04590435\n",
      "2000 \tMSE: 0.040674362\n",
      "2100 \tMSE: 0.03352144\n",
      "2200 \tMSE: 0.03732467\n",
      "2300 \tMSE: 0.04645707\n",
      "2400 \tMSE: 0.038150005\n",
      "2500 \tMSE: 0.03666401\n",
      "2600 \tMSE: 0.034434132\n",
      "2700 \tMSE: 0.03670224\n",
      "2800 \tMSE: 0.035052534\n",
      "2900 \tMSE: 0.031153314\n",
      "3000 \tMSE: 0.034028858\n",
      "3100 \tMSE: 0.041268807\n",
      "3200 \tMSE: 0.036914214\n",
      "3300 \tMSE: 0.03810005\n",
      "3400 \tMSE: 0.043922484\n",
      "3500 \tMSE: 0.037775658\n",
      "3600 \tMSE: 0.04035504\n",
      "3700 \tMSE: 0.039267927\n",
      "3800 \tMSE: 0.032882486\n",
      "3900 \tMSE: 0.040676683\n",
      "4000 \tMSE: 0.038628932\n",
      "4100 \tMSE: 0.039509427\n",
      "4200 \tMSE: 0.040213205\n",
      "4300 \tMSE: 0.03755792\n",
      "4400 \tMSE: 0.037234597\n",
      "4500 \tMSE: 0.032414638\n",
      "4600 \tMSE: 0.032122716\n",
      "4700 \tMSE: 0.038912665\n",
      "4800 \tMSE: 0.03500296\n",
      "4900 \tMSE: 0.044357106\n"
     ]
    }
   ],
   "source": [
    "reset_graph()\n",
    "\n",
    "n_steps = 20\n",
    "n_inputs = 1\n",
    "n_neurons = 100\n",
    "n_outputs = 1\n",
    "X = tf.placeholder(tf.float32, [None, n_steps, n_inputs])\n",
    "y = tf.placeholder(tf.float32, [None, n_steps, n_outputs])\n",
    "\n",
    "#cell = tf.contrib.rnn.BasicRNNCell(num_units=n_neurons, activation=tf.nn.relu)\n",
    "cell = tf.contrib.rnn.OutputProjectionWrapper(\n",
    "    tf.contrib.rnn.BasicRNNCell(num_units=n_neurons, activation=tf.nn.relu),\n",
    "    output_size=n_outputs)\n",
    "outputs, states = tf.nn.dynamic_rnn(cell, X, dtype=tf.float32)\n",
    "\n",
    "learning_rate = 0.001\n",
    "loss = tf.reduce_mean(tf.square(outputs - y))\n",
    "optimizer = tf.train.AdamOptimizer(learning_rate=learning_rate)\n",
    "training_op = optimizer.minimize(loss)\n",
    "init = tf.global_variables_initializer()\n",
    "\n",
    "n_iterations = 5000\n",
    "batch_size = 50\n",
    "\n",
    "saver = tf.train.Saver()\n",
    "\n",
    "with tf.Session() as sess:\n",
    "    init.run()\n",
    "    for iteration in range(n_iterations):\n",
    "        X_batch, y_batch = next_batch(batch_size, n_steps)\n",
    "        sess.run(training_op, feed_dict={X: X_batch, y: y_batch})\n",
    "        if iteration % 100 == 0:\n",
    "            mse = loss.eval(feed_dict={X: X_batch, y: y_batch})\n",
    "            print(iteration, \"\\tMSE:\", mse)\n",
    "    saver.save(sess, \"d:/tmp/my_time_series_model\")"
   ]
  },
  {
   "cell_type": "code",
   "execution_count": 54,
   "metadata": {},
   "outputs": [
    {
     "name": "stdout",
     "output_type": "stream",
     "text": [
      "INFO:tensorflow:Restoring parameters from d:/tmp/my_time_series_model\n"
     ]
    }
   ],
   "source": [
    "with tf.Session() as sess:                          # not shown in the book\n",
    "    saver.restore(sess, \"d:/tmp/my_time_series_model\")   # not shown\n",
    "\n",
    "    X_new = time_series(np.array(t_instance[:-1].reshape(-1, n_steps, n_inputs)))\n",
    "    y_pred = sess.run(outputs, feed_dict={X: X_new})"
   ]
  },
  {
   "cell_type": "code",
   "execution_count": 55,
   "metadata": {},
   "outputs": [
    {
     "data": {
      "text/plain": [
       "array([[[-3.302047  ],\n",
       "        [-2.4533572 ],\n",
       "        [-0.94756925],\n",
       "        [ 0.7548562 ],\n",
       "        [ 2.155741  ],\n",
       "        [ 3.0685909 ],\n",
       "        [ 3.4678533 ],\n",
       "        [ 3.3305779 ],\n",
       "        [ 2.8638768 ],\n",
       "        [ 2.2052193 ],\n",
       "        [ 1.6694807 ],\n",
       "        [ 1.5501645 ],\n",
       "        [ 1.8984221 ],\n",
       "        [ 2.7207751 ],\n",
       "        [ 3.86573   ],\n",
       "        [ 5.0690894 ],\n",
       "        [ 6.0499983 ],\n",
       "        [ 6.61428   ],\n",
       "        [ 6.6060677 ],\n",
       "        [ 6.0268455 ]]], dtype=float32)"
      ]
     },
     "execution_count": 55,
     "metadata": {},
     "output_type": "execute_result"
    }
   ],
   "source": [
    "y_pred"
   ]
  },
  {
   "cell_type": "code",
   "execution_count": 56,
   "metadata": {},
   "outputs": [
    {
     "data": {
      "image/png": "[encoded data removed]",
      "text/plain": [
       "<Figure size 432x288 with 1 Axes>"
      ]
     },
     "metadata": {},
     "output_type": "display_data"
    }
   ],
   "source": [
    "plt.title(\"Testing the model\", fontsize=14)\n",
    "plt.plot(t_instance[:-1], time_series(t_instance[:-1]), \"bo\", markersize=10, label=\"instance\")\n",
    "plt.plot(t_instance[1:], time_series(t_instance[1:]), \"w*\", markersize=10, label=\"target\")\n",
    "plt.plot(t_instance[1:], y_pred[0,:,0], \"r.\", markersize=10, label=\"prediction\")\n",
    "plt.legend(loc=\"upper left\")\n",
    "plt.xlabel(\"Time\")\n",
    "\n",
    "plt.show()"
   ]
  },
  {
   "cell_type": "markdown",
   "metadata": {},
   "source": [
    "## without OutputProjectionWrapper"
   ]
  },
  {
   "cell_type": "code",
   "execution_count": 57,
   "metadata": {},
   "outputs": [
    {
     "name": "stdout",
     "output_type": "stream",
     "text": [
      "0 \tMSE: 13.907029\n",
      "100 \tMSE: 0.5056698\n",
      "200 \tMSE: 0.19735886\n",
      "300 \tMSE: 0.101214476\n",
      "400 \tMSE: 0.06850145\n",
      "500 \tMSE: 0.06291986\n",
      "600 \tMSE: 0.055129297\n",
      "700 \tMSE: 0.049436502\n",
      "800 \tMSE: 0.050434686\n",
      "900 \tMSE: 0.0482007\n",
      "1000 \tMSE: 0.04809868\n",
      "1100 \tMSE: 0.04982501\n",
      "1200 \tMSE: 0.041912545\n",
      "1300 \tMSE: 0.049292978\n",
      "1400 \tMSE: 0.043140374\n",
      "1500 \tMSE: 0.049654994\n",
      "1600 \tMSE: 0.052740462\n",
      "1700 \tMSE: 0.048069492\n",
      "1800 \tMSE: 0.034612723\n",
      "1900 \tMSE: 0.047547035\n"
     ]
    }
   ],
   "source": [
    "reset_graph()\n",
    "\n",
    "n_steps = 20\n",
    "n_inputs = 1\n",
    "n_neurons = 100\n",
    "\n",
    "X = tf.placeholder(tf.float32, [None, n_steps, n_inputs])\n",
    "y = tf.placeholder(tf.float32, [None, n_steps, n_outputs])\n",
    "\n",
    "cell = tf.contrib.rnn.BasicRNNCell(num_units=n_neurons, activation=tf.nn.relu)\n",
    "rnn_outputs, states = tf.nn.dynamic_rnn(cell, X, dtype=tf.float32)\n",
    "\n",
    "n_outputs = 1\n",
    "learning_rate = 0.001\n",
    "\n",
    "stacked_rnn_outputs = tf.reshape(rnn_outputs, [-1, n_neurons])\n",
    "stacked_outputs = tf.layers.dense(stacked_rnn_outputs, n_outputs)\n",
    "outputs = tf.reshape(stacked_outputs, [-1, n_steps, n_outputs])\n",
    "\n",
    "loss = tf.reduce_mean(tf.square(outputs - y))\n",
    "optimizer = tf.train.AdamOptimizer(learning_rate=learning_rate)\n",
    "training_op = optimizer.minimize(loss)\n",
    "\n",
    "init = tf.global_variables_initializer()\n",
    "saver = tf.train.Saver()\n",
    "\n",
    "n_iterations = 2000\n",
    "batch_size = 50\n",
    "\n",
    "with tf.Session() as sess:\n",
    "    init.run()\n",
    "    for iteration in range(n_iterations):\n",
    "        X_batch, y_batch = next_batch(batch_size, n_steps)\n",
    "        sess.run(training_op, feed_dict={X: X_batch, y: y_batch})\n",
    "        if iteration % 100 == 0:\n",
    "            mse = loss.eval(feed_dict={X: X_batch, y: y_batch})\n",
    "            print(iteration, \"\\tMSE:\", mse)\n",
    "    \n",
    "    X_new = time_series(np.array(t_instance[:-1].reshape(-1, n_steps, n_inputs)))\n",
    "    y_pred = sess.run(outputs, feed_dict={X: X_new})\n",
    "    \n",
    "    saver.save(sess, \"d:/tmp/my_time_series_model_noproj\")"
   ]
  },
  {
   "cell_type": "code",
   "execution_count": 58,
   "metadata": {},
   "outputs": [
    {
     "data": {
      "text/plain": [
       "array([[[-3.392065 ],\n",
       "        [-2.5145376],\n",
       "        [-1.2035942],\n",
       "        [ 0.6889469],\n",
       "        [ 2.1123097],\n",
       "        [ 3.0120914],\n",
       "        [ 3.4587214],\n",
       "        [ 3.3629668],\n",
       "        [ 2.8746111],\n",
       "        [ 2.1655095],\n",
       "        [ 1.647045 ],\n",
       "        [ 1.5553131],\n",
       "        [ 1.9353174],\n",
       "        [ 2.7615094],\n",
       "        [ 3.8879666],\n",
       "        [ 5.1086564],\n",
       "        [ 6.1134825],\n",
       "        [ 6.663715 ],\n",
       "        [ 6.629304 ],\n",
       "        [ 6.040426 ]]], dtype=float32)"
      ]
     },
     "execution_count": 58,
     "metadata": {},
     "output_type": "execute_result"
    }
   ],
   "source": [
    "y_pred"
   ]
  },
  {
   "cell_type": "code",
   "execution_count": 59,
   "metadata": {},
   "outputs": [
    {
     "data": {
      "image/png": "[encoded data removed]",
      "text/plain": [
       "<Figure size 432x288 with 1 Axes>"
      ]
     },
     "metadata": {},
     "output_type": "display_data"
    }
   ],
   "source": [
    "plt.title(\"Testing the model\", fontsize=14)\n",
    "plt.plot(t_instance[:-1], time_series(t_instance[:-1]), \"bo\", markersize=10, label=\"instance\")\n",
    "plt.plot(t_instance[1:], time_series(t_instance[1:]), \"w*\", markersize=10, label=\"target\")\n",
    "plt.plot(t_instance[1:], y_pred[0,:,0], \"r.\", markersize=10, label=\"prediction\")\n",
    "plt.legend(loc=\"upper left\")\n",
    "plt.xlabel(\"Time\")\n",
    "\n",
    "plt.show()"
   ]
  },
  {
   "cell_type": "code",
   "execution_count": 60,
   "metadata": {},
   "outputs": [
    {
     "name": "stdout",
     "output_type": "stream",
     "text": [
      "INFO:tensorflow:Restoring parameters from d:/tmp/my_time_series_model_noproj\n"
     ]
    }
   ],
   "source": [
    "with tf.Session() as sess:                        # not shown in the book\n",
    "    saver.restore(sess, \"d:/tmp/my_time_series_model_noproj\") # not shown\n",
    "\n",
    "    sequence = [0.] * n_steps\n",
    "    for iteration in range(300):\n",
    "        X_batch = np.array(sequence[-n_steps:]).reshape(1, n_steps, 1)\n",
    "        y_pred = sess.run(outputs, feed_dict={X: X_batch})\n",
    "        sequence.append(y_pred[0, -1, 0])"
   ]
  },
  {
   "cell_type": "code",
   "execution_count": 61,
   "metadata": {},
   "outputs": [
    {
     "data": {
      "image/png": "[encoded data removed]",
      "text/plain": [
       "<Figure size 576x288 with 1 Axes>"
      ]
     },
     "metadata": {},
     "output_type": "display_data"
    }
   ],
   "source": [
    "plt.figure(figsize=(8,4))\n",
    "plt.plot(np.arange(len(sequence)), sequence, \"b-\")\n",
    "plt.plot(t[:n_steps], sequence[:n_steps], \"b-\", linewidth=3)\n",
    "plt.xlabel(\"Time\")\n",
    "plt.ylabel(\"Value\")\n",
    "plt.show()"
   ]
  },
  {
   "cell_type": "code",
   "execution_count": 62,
   "metadata": {},
   "outputs": [
    {
     "name": "stdout",
     "output_type": "stream",
     "text": [
      "INFO:tensorflow:Restoring parameters from d:/tmp/my_time_series_model_noproj\n"
     ]
    },
    {
     "data": {
      "image/png": "[encoded data removed]",
      "text/plain": [
       "<Figure size 792x288 with 2 Axes>"
      ]
     },
     "metadata": {},
     "output_type": "display_data"
    }
   ],
   "source": [
    "with tf.Session() as sess:\n",
    "    saver.restore(sess, \"d:/tmp/my_time_series_model_noproj\")\n",
    "\n",
    "    sequence1 = [0. for i in range(n_steps)]\n",
    "    for iteration in range(len(t) - n_steps):\n",
    "        X_batch = np.array(sequence1[-n_steps:]).reshape(1, n_steps, 1)\n",
    "        y_pred = sess.run(outputs, feed_dict={X: X_batch})\n",
    "        sequence1.append(y_pred[0, -1, 0])\n",
    "\n",
    "    sequence2 = [time_series(i * resolution + t_min + (t_max-t_min/3)) for i in range(n_steps)]\n",
    "    for iteration in range(len(t) - n_steps):\n",
    "        X_batch = np.array(sequence2[-n_steps:]).reshape(1, n_steps, 1)\n",
    "        y_pred = sess.run(outputs, feed_dict={X: X_batch})\n",
    "        sequence2.append(y_pred[0, -1, 0])\n",
    "\n",
    "plt.figure(figsize=(11,4))\n",
    "plt.subplot(121)\n",
    "plt.plot(t, sequence1, \"b-\")\n",
    "plt.plot(t[:n_steps], sequence1[:n_steps], \"b-\", linewidth=3)\n",
    "plt.xlabel(\"Time\")\n",
    "plt.ylabel(\"Value\")\n",
    "\n",
    "plt.subplot(122)\n",
    "plt.plot(t, sequence2, \"b-\")\n",
    "plt.plot(t[:n_steps], sequence2[:n_steps], \"b-\", linewidth=3)\n",
    "plt.xlabel(\"Time\")\n",
    "\n",
    "plt.show()\n"
   ]
  },
  {
   "cell_type": "code",
   "execution_count": 69,
   "metadata": {},
   "outputs": [],
   "source": [
    "X_batch, y_batch = next_batch(50, n_steps)"
   ]
  },
  {
   "cell_type": "code",
   "execution_count": 70,
   "metadata": {},
   "outputs": [
    {
     "data": {
      "text/plain": [
       "(50, 20, 1)"
      ]
     },
     "execution_count": 70,
     "metadata": {},
     "output_type": "execute_result"
    }
   ],
   "source": [
    "X_batch.shape"
   ]
  },
  {
   "cell_type": "code",
   "execution_count": 72,
   "metadata": {},
   "outputs": [
    {
     "data": {
      "text/plain": [
       "array([[ 2.01121816],\n",
       "       [ 1.92703069],\n",
       "       [ 2.24242286],\n",
       "       [ 2.80429408],\n",
       "       [ 3.39010802],\n",
       "       [ 3.76312526],\n",
       "       [ 3.73120911],\n",
       "       [ 3.19479937],\n",
       "       [ 2.17229975],\n",
       "       [ 0.79665371],\n",
       "       [-0.71606309],\n",
       "       [-2.11835546],\n",
       "       [-3.19067681],\n",
       "       [-3.79392991],\n",
       "       [-3.90225865],\n",
       "       [-3.60811538],\n",
       "       [-3.09837617],\n",
       "       [-2.60736483],\n",
       "       [-2.35830012],\n",
       "       [-2.50751455]])"
      ]
     },
     "execution_count": 72,
     "metadata": {},
     "output_type": "execute_result"
    }
   ],
   "source": [
    "X_batch[0]"
   ]
  },
  {
   "cell_type": "code",
   "execution_count": null,
   "metadata": {},
   "outputs": [],
   "source": []
  }
 ],
 "metadata": {
  "kernelspec": {
   "display_name": "Python 3",
   "language": "python",
   "name": "python3"
  },
  "language_info": {
   "codemirror_mode": {
    "name": "ipython",
    "version": 3
   },
   "file_extension": ".py",
   "mimetype": "text/x-python",
   "name": "python",
   "nbconvert_exporter": "python",
   "pygments_lexer": "ipython3",
   "version": "3.5.5"
  }
 },
 "nbformat": 4,
 "nbformat_minor": 2
}
