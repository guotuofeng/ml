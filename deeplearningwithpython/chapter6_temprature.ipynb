{
 "cells": [
  {
   "cell_type": "code",
   "execution_count": null,
   "metadata": {},
   "outputs": [],
   "source": [
    "import os\n",
    "data_dir = 'd:\\git'\n",
    "fname = os.path.join(data_dir, 'jena_climate_2009_2016.csv')\n",
    "\n",
    "f = open(fname)\n",
    "data = f.read()\n",
    "f.close()\n",
    "\n",
    "lines = data.split('\\n')\n",
    "header = lines[0].split(',')\n",
    "lines = lines[1:]\n",
    "\n",
    "print(header)\n",
    "print(len(lines))"
   ]
  },
  {
   "cell_type": "code",
   "execution_count": null,
   "metadata": {},
   "outputs": [],
   "source": [
    "import numpy as np\n",
    "\n",
    "float_data = np.zeros((len(lines), len(header) - 1))\n",
    "for i, line in enumerate(lines):\n",
    "    values = [float(x) for x in line.split(',')[1:]]\n",
    "    float_data[i, :] = values"
   ]
  },
  {
   "cell_type": "code",
   "execution_count": null,
   "metadata": {},
   "outputs": [],
   "source": [
    "mean = float_data[:200000].mean(axis=0)\n",
    "float_data -= mean\n",
    "std = float_data[:200000].std(axis=0)\n",
    "float_data /= std"
   ]
  },
  {
   "cell_type": "code",
   "execution_count": null,
   "metadata": {},
   "outputs": [],
   "source": [
    "def generator(data, lookback, delay, min_index, max_index, \n",
    "              shuffle=False, batch_size=128, step=6):\n",
    "    if max_index is None:\n",
    "        max_index = len(data) - delay - 1\n",
    "    i = min_index + lookback\n",
    "    while 1:\n",
    "        if shuffle:\n",
    "            rows = np.random.randint(min_index + lookback, max_index, size=batch_size)\n",
    "        else:\n",
    "            if i + batch_size >= max_index:\n",
    "                i = min_index + lookback\n",
    "            rows = np.arange(i, min(i + batch_size, max_index))\n",
    "            i += len(rows)\n",
    "            \n",
    "        samples = np.zeros((len(rows), lookback // step, data.shape[-1]))\n",
    "        targets = np.zeros((len(rows),))\n",
    "        for j, row in enumerate(rows):\n",
    "            indices = range(rows[j] - lookback, rows[j], step)\n",
    "            samples[j] = data[indices]\n",
    "            targets[j] = data[rows[j] + delay][1]\n",
    "        yield samples, targets"
   ]
  },
  {
   "cell_type": "code",
   "execution_count": null,
   "metadata": {},
   "outputs": [],
   "source": [
    "lookback = 1440\n",
    "step = 6\n",
    "delay = 144\n",
    "batch_size = 128\n",
    "\n",
    "train_gen = generator(float_data, lookback=lookback, delay=delay, min_index=0, max_index=200000, shuffle=True, step=step,batch_size=batch_size)\n",
    "val_gen = generator(float_data, lookback=lookback, delay=delay, min_index=2001, max_index=5000, step=step, batch_size=batch_size)\n",
    "test_gen = generator(float_data, lookback=lookback, delay=delay, min_index=300001, max_index=None, step=step, batch_size=batch_size)\n",
    "val_steps = (5000 - 2001 - lookback)\n",
    "test_steps = (len(float_data) - 300001 - lookback)"
   ]
  },
  {
   "cell_type": "code",
   "execution_count": 19,
   "metadata": {},
   "outputs": [
    {
     "name": "stdout",
     "output_type": "stream",
     "text": [
      "Epoch 1/20\n",
      "500/500 [==============================] - 17s 34ms/step - loss: 1.1661 - val_loss: 1.2278\n",
      "Epoch 2/20\n",
      "500/500 [==============================] - 16s 31ms/step - loss: 0.3993 - val_loss: 0.2225\n",
      "Epoch 3/20\n",
      "500/500 [==============================] - 16s 31ms/step - loss: 0.2819 - val_loss: 0.1826\n",
      "Epoch 4/20\n",
      "500/500 [==============================] - 16s 32ms/step - loss: 0.2617 - val_loss: 0.1940\n",
      "Epoch 5/20\n",
      "500/500 [==============================] - 16s 32ms/step - loss: 0.2510 - val_loss: 0.1565\n",
      "Epoch 6/20\n",
      "500/500 [==============================] - 16s 31ms/step - loss: 0.2403 - val_loss: 0.2176\n",
      "Epoch 7/20\n",
      "500/500 [==============================] - 17s 33ms/step - loss: 0.2356 - val_loss: 0.1985\n",
      "Epoch 8/20\n",
      "500/500 [==============================] - 16s 32ms/step - loss: 0.2297 - val_loss: 0.1862\n",
      "Epoch 9/20\n",
      "500/500 [==============================] - 16s 31ms/step - loss: 0.2272 - val_loss: 0.1628\n",
      "Epoch 10/20\n",
      "500/500 [==============================] - 17s 33ms/step - loss: 0.2220 - val_loss: 0.2244\n",
      "Epoch 11/20\n",
      "500/500 [==============================] - 16s 32ms/step - loss: 0.2177 - val_loss: 0.1911\n",
      "Epoch 12/20\n",
      "500/500 [==============================] - 16s 32ms/step - loss: 0.2159 - val_loss: 0.1615\n",
      "Epoch 13/20\n",
      "500/500 [==============================] - 16s 31ms/step - loss: 0.2123 - val_loss: 0.2320\n",
      "Epoch 14/20\n",
      "500/500 [==============================] - 16s 32ms/step - loss: 0.2112 - val_loss: 0.2282\n",
      "Epoch 15/20\n",
      "500/500 [==============================] - 17s 34ms/step - loss: 0.2077 - val_loss: 0.1526\n",
      "Epoch 16/20\n",
      "500/500 [==============================] - 16s 31ms/step - loss: 0.2075 - val_loss: 0.1967\n",
      "Epoch 17/20\n",
      "500/500 [==============================] - 16s 31ms/step - loss: 0.2039 - val_loss: 0.2942\n",
      "Epoch 18/20\n",
      "500/500 [==============================] - 16s 32ms/step - loss: 0.2030 - val_loss: 0.1742\n",
      "Epoch 19/20\n",
      "500/500 [==============================] - 16s 32ms/step - loss: 0.2000 - val_loss: 0.1932\n",
      "Epoch 20/20\n",
      "500/500 [==============================] - 16s 31ms/step - loss: 0.1992 - val_loss: 0.1618\n"
     ]
    }
   ],
   "source": [
    "from keras.models import Sequential\n",
    "from keras import layers\n",
    "from keras.optimizers import RMSprop\n",
    "\n",
    "model = Sequential()\n",
    "model.add(layers.Flatten(input_shape=(lookback // step, float_data.shape[-1])))\n",
    "model.add(layers.Dense(32, activation='relu'))\n",
    "model.add(layers.Dense(1))\n",
    "\n",
    "model.compile(optimizer=RMSprop(), loss='mae')\n",
    "history = model.fit_generator(train_gen, steps_per_epoch=500, epochs=20, validation_data=val_gen, validation_steps=val_steps)"
   ]
  },
  {
   "cell_type": "code",
   "execution_count": 21,
   "metadata": {},
   "outputs": [
    {
     "data": {
      "image/png": "[encoded data removed]",
      "text/plain": [
       "<Figure size 432x288 with 1 Axes>"
      ]
     },
     "metadata": {},
     "output_type": "display_data"
    }
   ],
   "source": [
    "import matplotlib.pyplot as plt\n",
    "loss = history.history['loss']\n",
    "val_loss = history.history['val_loss']\n",
    "epochs = range(1, len(loss) + 1)\n",
    "plt.figure()\n",
    "plt.plot(epochs, loss[:], 'bo', label='Training loss')\n",
    "plt.plot(epochs, val_loss[:], 'b', label='Validation loss')\n",
    "plt.title('Training and validation loss')\n",
    "plt.legend()\n",
    "plt.show()"
   ]
  },
  {
   "cell_type": "code",
   "execution_count": 22,
   "metadata": {},
   "outputs": [
    {
     "name": "stdout",
     "output_type": "stream",
     "text": [
      "Epoch 1/20\n",
      "500/500 [==============================] - 100s 201ms/step - loss: 0.3084 - val_loss: 0.1955\n",
      "Epoch 2/20\n",
      "500/500 [==============================] - 99s 199ms/step - loss: 0.2834 - val_loss: 0.2527\n",
      "Epoch 3/20\n",
      "500/500 [==============================] - 99s 198ms/step - loss: 0.2788 - val_loss: 0.2062\n",
      "Epoch 4/20\n",
      "500/500 [==============================] - 99s 198ms/step - loss: 0.2750 - val_loss: 0.2191\n",
      "Epoch 5/20\n",
      "500/500 [==============================] - 99s 199ms/step - loss: 0.2691 - val_loss: 0.2014\n",
      "Epoch 6/20\n",
      "500/500 [==============================] - 99s 198ms/step - loss: 0.2637 - val_loss: 0.2017\n",
      "Epoch 7/20\n",
      "500/500 [==============================] - 99s 198ms/step - loss: 0.2584 - val_loss: 0.1776\n",
      "Epoch 8/20\n",
      "500/500 [==============================] - 99s 198ms/step - loss: 0.2540 - val_loss: 0.1898\n",
      "Epoch 9/20\n",
      "500/500 [==============================] - 99s 197ms/step - loss: 0.2493 - val_loss: 0.1733\n",
      "Epoch 10/20\n",
      "500/500 [==============================] - 99s 197ms/step - loss: 0.2458 - val_loss: 0.2546\n",
      "Epoch 11/20\n",
      "500/500 [==============================] - 100s 200ms/step - loss: 0.2421 - val_loss: 0.1408\n",
      "Epoch 12/20\n",
      "500/500 [==============================] - 100s 199ms/step - loss: 0.2385 - val_loss: 0.1384\n",
      "Epoch 13/20\n",
      "500/500 [==============================] - 100s 199ms/step - loss: 0.2351 - val_loss: 0.1772\n",
      "Epoch 14/20\n",
      "500/500 [==============================] - 99s 199ms/step - loss: 0.2308 - val_loss: 0.1678\n",
      "Epoch 15/20\n",
      "500/500 [==============================] - 100s 199ms/step - loss: 0.2287 - val_loss: 0.1955\n",
      "Epoch 16/20\n",
      "500/500 [==============================] - 100s 199ms/step - loss: 0.2272 - val_loss: 0.1251\n",
      "Epoch 17/20\n",
      "500/500 [==============================] - 100s 201ms/step - loss: 0.2222 - val_loss: 0.1200\n",
      "Epoch 18/20\n",
      "500/500 [==============================] - 100s 199ms/step - loss: 0.2202 - val_loss: 0.1157\n",
      "Epoch 19/20\n",
      "500/500 [==============================] - 99s 199ms/step - loss: 0.2139 - val_loss: 0.1362\n",
      "Epoch 20/20\n",
      "500/500 [==============================] - 100s 200ms/step - loss: 0.2126 - val_loss: 0.1192\n"
     ]
    }
   ],
   "source": [
    "from keras.models import Sequential\n",
    "from keras import layers\n",
    "from keras.optimizers import RMSprop\n",
    "model = Sequential()\n",
    "model.add(layers.GRU(32, input_shape=(None, float_data.shape[-1])))\n",
    "model.add(layers.Dense(1))\n",
    "model.compile(optimizer=RMSprop(), loss='mae')\n",
    "history = model.fit_generator(train_gen,\n",
    "steps_per_epoch=500,\n",
    "epochs=20,\n",
    "validation_data=val_gen,\n",
    "validation_steps=val_steps)"
   ]
  },
  {
   "cell_type": "code",
   "execution_count": 23,
   "metadata": {},
   "outputs": [
    {
     "data": {
      "image/png": "[encoded data removed]",
      "text/plain": [
       "<Figure size 432x288 with 1 Axes>"
      ]
     },
     "metadata": {},
     "output_type": "display_data"
    }
   ],
   "source": [
    "import matplotlib.pyplot as plt\n",
    "loss = history.history['loss']\n",
    "val_loss = history.history['val_loss']\n",
    "epochs = range(1, len(loss) + 1)\n",
    "plt.figure()\n",
    "plt.plot(epochs, loss[:], 'bo', label='Training loss')\n",
    "plt.plot(epochs, val_loss[:], 'b', label='Validation loss')\n",
    "plt.title('Training and validation loss')\n",
    "plt.legend()\n",
    "plt.show()"
   ]
  },
  {
   "cell_type": "code",
   "execution_count": null,
   "metadata": {},
   "outputs": [],
   "source": []
  }
 ],
 "metadata": {
  "kernelspec": {
   "display_name": "Python (tensorflow)",
   "language": "python",
   "name": "tensorflow"
  },
  "language_info": {
   "codemirror_mode": {
    "name": "ipython",
    "version": 3
   },
   "file_extension": ".py",
   "mimetype": "text/x-python",
   "name": "python",
   "nbconvert_exporter": "python",
   "pygments_lexer": "ipython3",
   "version": "3.5.5"
  }
 },
 "nbformat": 4,
 "nbformat_minor": 2
}
